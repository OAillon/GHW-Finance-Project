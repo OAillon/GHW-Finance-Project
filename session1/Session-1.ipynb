{
 "cells": [
  {
   "cell_type": "code",
   "execution_count": 1,
   "id": "fb1f5c85-c1f2-445f-b511-23c58ace9efd",
   "metadata": {},
   "outputs": [
    {
     "name": "stdout",
     "output_type": "stream",
     "text": [
      "Holaa\n"
     ]
    }
   ],
   "source": [
    "print(\"Holaa\")"
   ]
  },
  {
   "cell_type": "markdown",
   "id": "2fe8ad9f-e620-485e-a9cd-f3b5aa5d8063",
   "metadata": {},
   "source": [
    "# This is a markdown Cell"
   ]
  },
  {
   "cell_type": "code",
   "execution_count": 7,
   "id": "2d0a79f4-bd43-4e17-bab7-3b489624af76",
   "metadata": {},
   "outputs": [
    {
     "name": "stdout",
     "output_type": "stream",
     "text": [
      "{'name': 'AAPL', 'price': 150.75, 'shares': 10}\n"
     ]
    }
   ],
   "source": [
    "stock_info = { \"name\": \"AAPL\", \"price\": 150.75, \"shares\":10}\n",
    "print(stock_info)"
   ]
  },
  {
   "cell_type": "code",
   "execution_count": 15,
   "id": "83c1efee-3663-4198-b590-647cda4f4eb7",
   "metadata": {},
   "outputs": [
    {
     "name": "stdout",
     "output_type": "stream",
     "text": [
      "AAPL\n",
      "dict_keys(['name', 'price', 'shares'])\n",
      "dict_values(['AAPL', 150.75, 10])\n",
      "150.75\n",
      "Not Found\n"
     ]
    }
   ],
   "source": [
    "print(stock_info[\"name\"])\n",
    "print(stock_info.keys())\n",
    "print(stock_info.values())\n",
    "print(stock_info.get(\"price\"))\n",
    "print(stock_info.get(\"sector\", \"Not Found\"))\n"
   ]
  },
  {
   "cell_type": "code",
   "execution_count": null,
   "id": "9cf3035b-7e69-4972-91e3-be50c482beb0",
   "metadata": {},
   "outputs": [],
   "source": []
  }
 ],
 "metadata": {
  "kernelspec": {
   "display_name": "Python 3 (ipykernel)",
   "language": "python",
   "name": "python3"
  },
  "language_info": {
   "codemirror_mode": {
    "name": "ipython",
    "version": 3
   },
   "file_extension": ".py",
   "mimetype": "text/x-python",
   "name": "python",
   "nbconvert_exporter": "python",
   "pygments_lexer": "ipython3",
   "version": "3.12.4"
  }
 },
 "nbformat": 4,
 "nbformat_minor": 5
}
